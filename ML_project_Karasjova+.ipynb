{
 "cells": [
  {
   "cell_type": "code",
   "execution_count": 113,
   "id": "242ff8f4",
   "metadata": {},
   "outputs": [],
   "source": [
    "import pandas as pd\n",
    "import numpy as np\n",
    "\n",
    "file_path ='einkommen.train'\n",
    "\n",
    "data = pd.read_csv(file_path)"
   ]
  },
  {
   "cell_type": "code",
   "execution_count": 115,
   "id": "9f394485",
   "metadata": {},
   "outputs": [],
   "source": [
    "column_names = [\n",
    "    'Age',\n",
    "    'Employment type',\n",
    "    'Weighting factor',\n",
    "    'Level of education',\n",
    "    'Schooling/training period',\n",
    "    'Marital status',\n",
    "    'Employment area',\n",
    "    'Partnership',\n",
    "    'Ethnicity',\n",
    "    'Gender',\n",
    "    'Gains on financial assets',\n",
    "    'Losses on financial assets',\n",
    "    'Weekly working time',\n",
    "    'Country of birth',\n",
    "    'Income'\n",
    "]\n",
    "\n",
    "#Add column names to DataFrame \n",
    "df = pd.read_csv('einkommen.train', names=column_names)"
   ]
  },
  {
   "cell_type": "markdown",
   "id": "6deeae18-dabb-4973-8249-30b16b714aeb",
   "metadata": {},
   "source": [
    "**Properties of Data**"
   ]
  },
  {
   "cell_type": "code",
   "execution_count": 118,
   "id": "c4a1f8cd-7a72-4822-b371-ff8c067a3a58",
   "metadata": {},
   "outputs": [
    {
     "name": "stdout",
     "output_type": "stream",
     "text": [
      "{' <=50K': 3779, ' >50K': 1221, ' ?': 25000}\n"
     ]
    }
   ],
   "source": [
    "#Count class distribution \n",
    "\n",
    "unique_counts = {}\n",
    "for val in df['Income'].unique():\n",
    "    count = df['Income'].value_counts()[val]\n",
    "    unique_counts[val] = count\n",
    "print(unique_counts)"
   ]
  },
  {
   "cell_type": "code",
   "execution_count": 120,
   "id": "4410e2d4-959f-469a-8e91-40e1b7dac97c",
   "metadata": {},
   "outputs": [
    {
     "data": {
      "text/plain": [
       "2196"
      ]
     },
     "execution_count": 120,
     "metadata": {},
     "output_type": "execute_result"
    }
   ],
   "source": [
    "#Count the rows with missing values\n",
    "\n",
    "#Clean up string data \n",
    "df = df.apply(lambda x: x.str.strip() if x.dtype == \"object\" else x)\n",
    "\n",
    "df_woi = df.drop('Income', axis=1)\n",
    "\n",
    "missing_value_rows = df_woi[df_woi.apply(lambda row: any(val == '?' for val in row), axis=1)]\n",
    "\n",
    "len(missing_value_rows)"
   ]
  },
  {
   "cell_type": "code",
   "execution_count": 121,
   "id": "45839f45-6e49-4716-b42f-f38c29a1ce2d",
   "metadata": {},
   "outputs": [
    {
     "name": "stdout",
     "output_type": "stream",
     "text": [
      "Age                              0\n",
      "Employment type               1677\n",
      "Weighting factor                 0\n",
      "Level of education               0\n",
      "Schooling/training period        0\n",
      "Marital status                   0\n",
      "Employment area               1682\n",
      "Partnership                      0\n",
      "Ethnicity                        0\n",
      "Gender                           0\n",
      "Gains on financial assets        0\n",
      "Losses on financial assets       0\n",
      "Weekly working time              0\n",
      "Country of birth               539\n",
      "dtype: int64\n"
     ]
    }
   ],
   "source": [
    "#Count how many missing values in each column\n",
    "\n",
    "def count_question_marks(series):\n",
    "    return (series == '?').sum()\n",
    "\n",
    "missing_value_counts = df_woi.apply(count_question_marks)\n",
    "\n",
    "print(missing_value_counts)"
   ]
  },
  {
   "cell_type": "markdown",
   "id": "f2ffa555-0b09-4a16-8e0e-4a60d9ea4282",
   "metadata": {},
   "source": [
    "**Preprocessing the data**"
   ]
  },
  {
   "cell_type": "code",
   "execution_count": 125,
   "id": "9ef5253c",
   "metadata": {},
   "outputs": [],
   "source": [
    "#Replace missing values('?') with NaN\n",
    "\n",
    "df.replace({'?': np.nan}, inplace=True)"
   ]
  },
  {
   "cell_type": "code",
   "execution_count": 127,
   "id": "133eda52",
   "metadata": {},
   "outputs": [],
   "source": [
    "# Replacing missing values in the DataFrame:\n",
    "# For columns with categorical data types, fill missing values with the most frequent value.\n",
    "# For numerical columns, fill missing values with the median.\n",
    "\n",
    "from sklearn.preprocessing import OneHotEncoder, StandardScaler\n",
    "\n",
    "for column in df_woi.columns:\n",
    "    if df_woi[column].dtype == 'object':\n",
    "        df_woi[column] = df_woi[column].fillna(df_woi[column].mode()[0])\n",
    "    else:\n",
    "        df_woi[column] = df_woi[column].fillna(df_woi[column].median())"
   ]
  },
  {
   "cell_type": "code",
   "execution_count": 129,
   "id": "0f800493",
   "metadata": {},
   "outputs": [],
   "source": [
    "#Transform the data for model training and testing \n",
    "\n",
    "# One-Hot Encoding for categorical variables\n",
    "categorical_cols = ['Employment type', \n",
    "                    'Level of education', \n",
    "                    'Marital status', \n",
    "                    'Employment area', \n",
    "                    'Partnership', \n",
    "                    'Ethnicity', \n",
    "                    'Gender', \n",
    "                    'Country of birth']\n",
    "\n",
    "one_hot_encoder = OneHotEncoder(sparse_output=False, drop='first')\n",
    "\n",
    "encoded_cats = one_hot_encoder.fit_transform(df_woi[categorical_cols])\n",
    "\n",
    "encoded_cats_df = pd.DataFrame(encoded_cats, \n",
    "                               columns=one_hot_encoder.get_feature_names_out(categorical_cols))"
   ]
  },
  {
   "cell_type": "code",
   "execution_count": 131,
   "id": "155e76c1",
   "metadata": {},
   "outputs": [],
   "source": [
    "# Normalization for numerical features\n",
    "numerical_cols = ['Age', \n",
    "                   'Weighting factor', \n",
    "                    'Schooling/training period', \n",
    "                    'Gains on financial assets', \n",
    "                    'Losses on financial assets', \n",
    "                    'Weekly working time']\n",
    "\n",
    "scaler = StandardScaler()\n",
    "\n",
    "normalized_numerical_df = pd.DataFrame(scaler.fit_transform(df_woi[numerical_cols]), \n",
    "                                       columns=numerical_cols)"
   ]
  },
  {
   "cell_type": "code",
   "execution_count": 133,
   "id": "bddbc1c7",
   "metadata": {},
   "outputs": [],
   "source": [
    "# Concatenate the normalized numerical DataFrame with the one-hot encoded DataFrame\n",
    "\n",
    "final_df = pd.concat([normalized_numerical_df.reset_index(drop=True), \n",
    "                      encoded_cats_df.reset_index(drop=True)], axis=1)"
   ]
  },
  {
   "cell_type": "code",
   "execution_count": 135,
   "id": "3640f985",
   "metadata": {},
   "outputs": [
    {
     "name": "stderr",
     "output_type": "stream",
     "text": [
      "C:\\Users\\Public\\Documents\\Wondershare\\CreatorTemp\\ipykernel_21208\\1193457992.py:8: SettingWithCopyWarning: \n",
      "A value is trying to be set on a copy of a slice from a DataFrame.\n",
      "Try using .loc[row_indexer,col_indexer] = value instead\n",
      "\n",
      "See the caveats in the documentation: https://pandas.pydata.org/pandas-docs/stable/user_guide/indexing.html#returning-a-view-versus-a-copy\n",
      "  final_df_labeled['Income'] = encoded_income\n"
     ]
    }
   ],
   "source": [
    "#Proccess the income column\n",
    "final_df['Income'] = df['Income'] \n",
    "\n",
    "final_df_labeled = final_df[final_df['Income'].notna()]\n",
    "\n",
    "encoded_income = one_hot_encoder.fit_transform(final_df_labeled['Income'].values.reshape(-1, 1))\n",
    "\n",
    "final_df_labeled['Income'] = encoded_income"
   ]
  },
  {
   "cell_type": "markdown",
   "id": "5491d468-a386-4e23-bb5d-24603bae7aa7",
   "metadata": {},
   "source": [
    "**Train and test three models**"
   ]
  },
  {
   "cell_type": "code",
   "execution_count": 138,
   "id": "af520912",
   "metadata": {},
   "outputs": [],
   "source": [
    "import matplotlib.pyplot as plt\n",
    "from sklearn.model_selection import train_test_split\n",
    "from sklearn.metrics import accuracy_score, f1_score, roc_auc_score\n",
    "\n",
    "#Create feature set and target variable for future modeling\n",
    "features = final_df_labeled.drop('Income', axis=1)\n",
    "target = final_df_labeled['Income']\n",
    "\n",
    "#Split labeled data for train and test set\n",
    "X_train, X_test, y_train, y_test = train_test_split(features, target, test_size=0.2, random_state=42)\n",
    "\n",
    "# Define class weights\n",
    "class_weights = {0: 0.6617, 1: 2.0475}"
   ]
  },
  {
   "cell_type": "markdown",
   "id": "4157a79a-1b6d-4374-8420-281836c9c219",
   "metadata": {},
   "source": [
    "**Logistic Regression**"
   ]
  },
  {
   "cell_type": "code",
   "execution_count": 141,
   "id": "3d07e7a4-e6cb-49c7-a20e-3fcf9b8d4a67",
   "metadata": {},
   "outputs": [
    {
     "name": "stdout",
     "output_type": "stream",
     "text": [
      "Best hyperparameters found:\n",
      "{'C': 10, 'penalty': 'l1', 'solver': 'liblinear'}\n"
     ]
    }
   ],
   "source": [
    "from sklearn.linear_model import LogisticRegression\n",
    "from sklearn.model_selection import GridSearchCV\n",
    "\n",
    "# Defining the hyperparameters to tune\n",
    "param_grid = {\n",
    "    'C': [0.01, 0.1, 1, 10, 100],  \n",
    "    'penalty': ['l1', 'l2'],        \n",
    "    'solver': ['liblinear'],       \n",
    "}\n",
    "\n",
    "logistic_model = LogisticRegression(class_weight=class_weights, random_state=42)\n",
    "\n",
    "# Perform Grid Search with Cross-Validation\n",
    "grid_search = GridSearchCV(estimator=logistic_model, param_grid=param_grid, cv=5, scoring='accuracy', n_jobs=-1)\n",
    "grid_search.fit(X_train, y_train)\n",
    "\n",
    "print(\"Best hyperparameters found:\")\n",
    "print(grid_search.best_params_)"
   ]
  },
  {
   "cell_type": "code",
   "execution_count": 142,
   "id": "ebd82ee5-97fd-44f4-a9b8-dbae981e4a1a",
   "metadata": {},
   "outputs": [],
   "source": [
    "# Get the best Logistic Regression model from Grid Search\n",
    "\n",
    "best_lr_model = grid_search.best_estimator_"
   ]
  },
  {
   "cell_type": "markdown",
   "id": "676a114b-45d5-47f2-ae57-2ab893ae99e8",
   "metadata": {},
   "source": [
    "**Random Forest**"
   ]
  },
  {
   "cell_type": "code",
   "execution_count": 144,
   "id": "175de762-8bdb-467c-9c83-4afe93cc19f6",
   "metadata": {},
   "outputs": [
    {
     "name": "stdout",
     "output_type": "stream",
     "text": [
      "Best hyperparameters found:\n",
      "{'max_depth': None, 'n_estimators': 100}\n"
     ]
    }
   ],
   "source": [
    "from sklearn.ensemble import RandomForestClassifier\n",
    "from sklearn.model_selection import GridSearchCV\n",
    "\n",
    "# Definethe hyperparameters to tune\n",
    "param_grid_rf = {\n",
    "    'n_estimators': [10, 50, 100], \n",
    "    'max_depth': [None, 10, 20]   \n",
    "}\n",
    "\n",
    "random_forest_model = RandomForestClassifier(random_state=42, class_weight=class_weights)\n",
    "\n",
    "# Perform Grid Search with Cross-Validation\n",
    "grid_search_rf = GridSearchCV(estimator=random_forest_model, param_grid=param_grid_rf, cv=5, scoring='accuracy', n_jobs=-1)\n",
    "grid_search_rf.fit(X_train, y_train)\n",
    "\n",
    "print(\"Best hyperparameters found:\")\n",
    "print(grid_search_rf.best_params_)"
   ]
  },
  {
   "cell_type": "code",
   "execution_count": 147,
   "id": "a160430d-ec12-45ba-b792-7697a39760d3",
   "metadata": {},
   "outputs": [],
   "source": [
    "# Get the best Random Forest model from Grid Search\n",
    "\n",
    "best_rf_model = grid_search_rf.best_estimator_"
   ]
  },
  {
   "cell_type": "markdown",
   "id": "0027da47-874e-43a0-92c2-228e223f0dbf",
   "metadata": {},
   "source": [
    "**Neural Network**"
   ]
  },
  {
   "cell_type": "code",
   "execution_count": 209,
   "id": "95493643-3bfc-4c2e-a964-7a7d4eb58a60",
   "metadata": {},
   "outputs": [
    {
     "name": "stdout",
     "output_type": "stream",
     "text": [
      "Training with lr=0.001, batch_size=16, epochs=10\n",
      "\u001b[1m32/32\u001b[0m \u001b[32m━━━━━━━━━━━━━━━━━━━━\u001b[0m\u001b[37m\u001b[0m \u001b[1m0s\u001b[0m 4ms/step\n",
      "Accuracy: 0.7890\n",
      "Training with lr=0.001, batch_size=16, epochs=20\n",
      "\u001b[1m32/32\u001b[0m \u001b[32m━━━━━━━━━━━━━━━━━━━━\u001b[0m\u001b[37m\u001b[0m \u001b[1m0s\u001b[0m 4ms/step\n",
      "Accuracy: 0.7880\n",
      "Training with lr=0.001, batch_size=16, epochs=30\n",
      "\u001b[1m32/32\u001b[0m \u001b[32m━━━━━━━━━━━━━━━━━━━━\u001b[0m\u001b[37m\u001b[0m \u001b[1m0s\u001b[0m 5ms/step\n",
      "Accuracy: 0.7990\n",
      "Training with lr=0.001, batch_size=32, epochs=10\n",
      "\u001b[1m32/32\u001b[0m \u001b[32m━━━━━━━━━━━━━━━━━━━━\u001b[0m\u001b[37m\u001b[0m \u001b[1m0s\u001b[0m 6ms/step\n",
      "Accuracy: 0.7910\n",
      "Training with lr=0.001, batch_size=32, epochs=20\n",
      "\u001b[1m32/32\u001b[0m \u001b[32m━━━━━━━━━━━━━━━━━━━━\u001b[0m\u001b[37m\u001b[0m \u001b[1m0s\u001b[0m 4ms/step\n",
      "Accuracy: 0.7870\n",
      "Training with lr=0.001, batch_size=32, epochs=30\n",
      "\u001b[1m32/32\u001b[0m \u001b[32m━━━━━━━━━━━━━━━━━━━━\u001b[0m\u001b[37m\u001b[0m \u001b[1m0s\u001b[0m 4ms/step\n",
      "Accuracy: 0.7820\n",
      "Training with lr=0.001, batch_size=64, epochs=10\n",
      "\u001b[1m32/32\u001b[0m \u001b[32m━━━━━━━━━━━━━━━━━━━━\u001b[0m\u001b[37m\u001b[0m \u001b[1m0s\u001b[0m 6ms/step\n",
      "Accuracy: 0.8030\n",
      "Training with lr=0.001, batch_size=64, epochs=20\n",
      "\u001b[1m32/32\u001b[0m \u001b[32m━━━━━━━━━━━━━━━━━━━━\u001b[0m\u001b[37m\u001b[0m \u001b[1m0s\u001b[0m 3ms/step\n",
      "Accuracy: 0.8030\n",
      "Training with lr=0.001, batch_size=64, epochs=30\n",
      "\u001b[1m32/32\u001b[0m \u001b[32m━━━━━━━━━━━━━━━━━━━━\u001b[0m\u001b[37m\u001b[0m \u001b[1m0s\u001b[0m 3ms/step\n",
      "Accuracy: 0.8020\n",
      "Training with lr=0.01, batch_size=16, epochs=10\n",
      "\u001b[1m32/32\u001b[0m \u001b[32m━━━━━━━━━━━━━━━━━━━━\u001b[0m\u001b[37m\u001b[0m \u001b[1m0s\u001b[0m 3ms/step\n",
      "Accuracy: 0.7810\n",
      "Training with lr=0.01, batch_size=16, epochs=20\n",
      "\u001b[1m32/32\u001b[0m \u001b[32m━━━━━━━━━━━━━━━━━━━━\u001b[0m\u001b[37m\u001b[0m \u001b[1m0s\u001b[0m 4ms/step\n",
      "Accuracy: 0.7970\n",
      "Training with lr=0.01, batch_size=16, epochs=30\n",
      "\u001b[1m32/32\u001b[0m \u001b[32m━━━━━━━━━━━━━━━━━━━━\u001b[0m\u001b[37m\u001b[0m \u001b[1m0s\u001b[0m 3ms/step\n",
      "Accuracy: 0.7920\n",
      "Training with lr=0.01, batch_size=32, epochs=10\n",
      "\u001b[1m32/32\u001b[0m \u001b[32m━━━━━━━━━━━━━━━━━━━━\u001b[0m\u001b[37m\u001b[0m \u001b[1m0s\u001b[0m 5ms/step\n",
      "Accuracy: 0.7800\n",
      "Training with lr=0.01, batch_size=32, epochs=20\n",
      "\u001b[1m32/32\u001b[0m \u001b[32m━━━━━━━━━━━━━━━━━━━━\u001b[0m\u001b[37m\u001b[0m \u001b[1m0s\u001b[0m 3ms/step\n",
      "Accuracy: 0.7760\n",
      "Training with lr=0.01, batch_size=32, epochs=30\n",
      "\u001b[1m32/32\u001b[0m \u001b[32m━━━━━━━━━━━━━━━━━━━━\u001b[0m\u001b[37m\u001b[0m \u001b[1m0s\u001b[0m 4ms/step\n",
      "Accuracy: 0.7800\n",
      "Training with lr=0.01, batch_size=64, epochs=10\n",
      "\u001b[1m32/32\u001b[0m \u001b[32m━━━━━━━━━━━━━━━━━━━━\u001b[0m\u001b[37m\u001b[0m \u001b[1m0s\u001b[0m 3ms/step\n",
      "Accuracy: 0.7800\n",
      "Training with lr=0.01, batch_size=64, epochs=20\n",
      "\u001b[1m32/32\u001b[0m \u001b[32m━━━━━━━━━━━━━━━━━━━━\u001b[0m\u001b[37m\u001b[0m \u001b[1m0s\u001b[0m 3ms/step\n",
      "Accuracy: 0.7980\n",
      "Training with lr=0.01, batch_size=64, epochs=30\n",
      "\u001b[1m32/32\u001b[0m \u001b[32m━━━━━━━━━━━━━━━━━━━━\u001b[0m\u001b[37m\u001b[0m \u001b[1m0s\u001b[0m 4ms/step\n",
      "Accuracy: 0.7830\n",
      "Training with lr=0.1, batch_size=16, epochs=10\n",
      "\u001b[1m32/32\u001b[0m \u001b[32m━━━━━━━━━━━━━━━━━━━━\u001b[0m\u001b[37m\u001b[0m \u001b[1m0s\u001b[0m 3ms/step\n",
      "Accuracy: 0.7350\n",
      "Training with lr=0.1, batch_size=16, epochs=20\n",
      "\u001b[1m32/32\u001b[0m \u001b[32m━━━━━━━━━━━━━━━━━━━━\u001b[0m\u001b[37m\u001b[0m \u001b[1m0s\u001b[0m 3ms/step\n",
      "Accuracy: 0.4350\n",
      "Training with lr=0.1, batch_size=16, epochs=30\n",
      "\u001b[1m32/32\u001b[0m \u001b[32m━━━━━━━━━━━━━━━━━━━━\u001b[0m\u001b[37m\u001b[0m \u001b[1m0s\u001b[0m 3ms/step\n",
      "Accuracy: 0.4390\n",
      "Training with lr=0.1, batch_size=32, epochs=10\n",
      "\u001b[1m32/32\u001b[0m \u001b[32m━━━━━━━━━━━━━━━━━━━━\u001b[0m\u001b[37m\u001b[0m \u001b[1m0s\u001b[0m 3ms/step\n",
      "Accuracy: 0.7900\n",
      "Training with lr=0.1, batch_size=32, epochs=20\n",
      "\u001b[1m32/32\u001b[0m \u001b[32m━━━━━━━━━━━━━━━━━━━━\u001b[0m\u001b[37m\u001b[0m \u001b[1m0s\u001b[0m 3ms/step\n",
      "Accuracy: 0.7990\n",
      "Training with lr=0.1, batch_size=32, epochs=30\n",
      "\u001b[1m32/32\u001b[0m \u001b[32m━━━━━━━━━━━━━━━━━━━━\u001b[0m\u001b[37m\u001b[0m \u001b[1m0s\u001b[0m 3ms/step\n",
      "Accuracy: 0.5470\n",
      "Training with lr=0.1, batch_size=64, epochs=10\n",
      "\u001b[1m32/32\u001b[0m \u001b[32m━━━━━━━━━━━━━━━━━━━━\u001b[0m\u001b[37m\u001b[0m \u001b[1m0s\u001b[0m 3ms/step\n",
      "Accuracy: 0.8150\n",
      "Training with lr=0.1, batch_size=64, epochs=20\n",
      "\u001b[1m32/32\u001b[0m \u001b[32m━━━━━━━━━━━━━━━━━━━━\u001b[0m\u001b[37m\u001b[0m \u001b[1m0s\u001b[0m 5ms/step\n",
      "Accuracy: 0.7720\n",
      "Training with lr=0.1, batch_size=64, epochs=30\n",
      "\u001b[1m32/32\u001b[0m \u001b[32m━━━━━━━━━━━━━━━━━━━━\u001b[0m\u001b[37m\u001b[0m \u001b[1m0s\u001b[0m 3ms/step\n",
      "Accuracy: 0.7750\n",
      "Best hyperparameters found:\n",
      "{'learning_rate': 0.1, 'batch_size': 64, 'epochs': 10}\n"
     ]
    }
   ],
   "source": [
    "import tensorflow as tf\n",
    "from keras.models import Sequential\n",
    "from keras.layers import Dense, Input\n",
    "from tensorflow.keras.optimizers import Adam\n",
    "\n",
    "# Set random seed for reproducibility\n",
    "seed_value = 42\n",
    "np.random.seed(seed_value)\n",
    "tf.random.set_seed(seed_value)\n",
    "\n",
    "#Reshape the indexes\n",
    "X_train = X_train.reset_index(drop=True)\n",
    "y_train = y_train.reset_index(drop=True)\n",
    "\n",
    "# Function to create the neural network model with learning rate as a hyperparameter\n",
    "def create_nn_model(learning_rate=0.001):\n",
    "    model = Sequential()\n",
    "    model.add(Input(shape=(X_train.shape[1],)))  \n",
    "    model.add(Dense(64, activation='relu'))  \n",
    "    model.add(Dense(32, activation='relu'))  \n",
    "    model.add(Dense(1, activation='sigmoid')) \n",
    "    \n",
    "    optimizer = Adam(learning_rate=learning_rate)\n",
    "    model.compile(optimizer=optimizer, loss='binary_crossentropy', metrics=['accuracy'])\n",
    "    return model\n",
    "\n",
    "# Define hyperparameters to tune\n",
    "learning_rates = [0.001, 0.01, 0.1]\n",
    "batch_sizes = [16, 32, 64]\n",
    "epochs = [10, 20, 30]\n",
    "\n",
    "best_accuracy = 0\n",
    "best_params = {}\n",
    "\n",
    "# Iterate over hyperparameter combinations\n",
    "for lr in learning_rates:\n",
    "    for bs in batch_sizes:\n",
    "        for ep in epochs:\n",
    "            print(f\"Training with lr={lr}, batch_size={bs}, epochs={ep}\")\n",
    "            \n",
    "            model = create_nn_model(learning_rate=lr)\n",
    "            \n",
    "            model.fit(X_train, y_train, epochs=ep, batch_size=bs, class_weight=class_weights, verbose=0)\n",
    "            \n",
    "            y_pred_nn = (model.predict(X_test) > 0.5).astype(\"int32\")\n",
    "            accuracy = accuracy_score(y_test, y_pred_nn)\n",
    "            \n",
    "            print(f\"Accuracy: {accuracy:.4f}\")\n",
    "            \n",
    "            if accuracy > best_accuracy:\n",
    "                best_accuracy = accuracy\n",
    "                best_params = {'learning_rate': lr, 'batch_size': bs, 'epochs': ep}\n",
    "\n",
    "print(\"Best hyperparameters found:\")\n",
    "print(best_params)"
   ]
  },
  {
   "cell_type": "code",
   "execution_count": 220,
   "id": "a80ed751-860f-4f1e-98fe-d860f068ebc2",
   "metadata": {},
   "outputs": [
    {
     "name": "stdout",
     "output_type": "stream",
     "text": [
      "Epoch 1/10\n",
      "\u001b[1m63/63\u001b[0m \u001b[32m━━━━━━━━━━━━━━━━━━━━\u001b[0m\u001b[37m\u001b[0m \u001b[1m2s\u001b[0m 2ms/step - accuracy: 0.7118 - loss: 0.7308\n",
      "Epoch 2/10\n",
      "\u001b[1m63/63\u001b[0m \u001b[32m━━━━━━━━━━━━━━━━━━━━\u001b[0m\u001b[37m\u001b[0m \u001b[1m0s\u001b[0m 2ms/step - accuracy: 0.8051 - loss: 0.3844\n",
      "Epoch 3/10\n",
      "\u001b[1m63/63\u001b[0m \u001b[32m━━━━━━━━━━━━━━━━━━━━\u001b[0m\u001b[37m\u001b[0m \u001b[1m0s\u001b[0m 2ms/step - accuracy: 0.7896 - loss: 0.3757\n",
      "Epoch 4/10\n",
      "\u001b[1m63/63\u001b[0m \u001b[32m━━━━━━━━━━━━━━━━━━━━\u001b[0m\u001b[37m\u001b[0m \u001b[1m0s\u001b[0m 2ms/step - accuracy: 0.8091 - loss: 0.3669\n",
      "Epoch 5/10\n",
      "\u001b[1m63/63\u001b[0m \u001b[32m━━━━━━━━━━━━━━━━━━━━\u001b[0m\u001b[37m\u001b[0m \u001b[1m0s\u001b[0m 2ms/step - accuracy: 0.8147 - loss: 0.3554\n",
      "Epoch 6/10\n",
      "\u001b[1m63/63\u001b[0m \u001b[32m━━━━━━━━━━━━━━━━━━━━\u001b[0m\u001b[37m\u001b[0m \u001b[1m0s\u001b[0m 2ms/step - accuracy: 0.8217 - loss: 0.3334\n",
      "Epoch 7/10\n",
      "\u001b[1m63/63\u001b[0m \u001b[32m━━━━━━━━━━━━━━━━━━━━\u001b[0m\u001b[37m\u001b[0m \u001b[1m0s\u001b[0m 2ms/step - accuracy: 0.8337 - loss: 0.3283\n",
      "Epoch 8/10\n",
      "\u001b[1m63/63\u001b[0m \u001b[32m━━━━━━━━━━━━━━━━━━━━\u001b[0m\u001b[37m\u001b[0m \u001b[1m0s\u001b[0m 3ms/step - accuracy: 0.8450 - loss: 0.3230\n",
      "Epoch 9/10\n",
      "\u001b[1m63/63\u001b[0m \u001b[32m━━━━━━━━━━━━━━━━━━━━\u001b[0m\u001b[37m\u001b[0m \u001b[1m0s\u001b[0m 3ms/step - accuracy: 0.8451 - loss: 0.3116\n",
      "Epoch 10/10\n",
      "\u001b[1m63/63\u001b[0m \u001b[32m━━━━━━━━━━━━━━━━━━━━\u001b[0m\u001b[37m\u001b[0m \u001b[1m0s\u001b[0m 2ms/step - accuracy: 0.8543 - loss: 0.3000\n"
     ]
    },
    {
     "data": {
      "text/plain": [
       "<keras.src.callbacks.history.History at 0x5a0bbf10>"
      ]
     },
     "execution_count": 220,
     "metadata": {},
     "output_type": "execute_result"
    }
   ],
   "source": [
    "#Compile and train the best NN model\n",
    "\n",
    "best_nn_model = create_nn_model(learning_rate=best_params['learning_rate'])\n",
    "\n",
    "best_nn_model.fit(X_train, y_train, epochs=best_params['epochs'], batch_size=best_params['batch_size'], class_weight=class_weights, verbose=1)"
   ]
  },
  {
   "cell_type": "code",
   "execution_count": 222,
   "id": "5dc74465-7959-447a-8092-fcded9439fc2",
   "metadata": {},
   "outputs": [
    {
     "name": "stdout",
     "output_type": "stream",
     "text": [
      "\u001b[1m32/32\u001b[0m \u001b[32m━━━━━━━━━━━━━━━━━━━━\u001b[0m\u001b[37m\u001b[0m \u001b[1m0s\u001b[0m 5ms/step\n",
      "\n",
      "Comparison of Model Results:\n",
      "Logistic Regression:\n",
      "  Accuracy: 0.8070\n",
      "  F1 Score: 0.6951\n",
      "  ROC AUC: 0.8930\n",
      "Random Forest:\n",
      "  Accuracy: 0.8300\n",
      "  F1 Score: 0.6444\n",
      "  ROC AUC: 0.8882\n",
      "Neural Network:\n",
      "  Accuracy: 0.7920\n",
      "  F1 Score: 0.6719\n",
      "  ROC AUC: 0.8840\n"
     ]
    }
   ],
   "source": [
    "# Test the best models\n",
    "\n",
    "models = {\n",
    "    \"Logistic Regression\": best_lr_model,\n",
    "    \"Random Forest\": best_rf_model,\n",
    "    \"Neural Network\": best_nn_model\n",
    "}\n",
    "\n",
    "results = {}\n",
    "\n",
    "# Evaluate each model and store the results\n",
    "for model_name, model in models.items():\n",
    "  \n",
    "    if model_name == \"Neural Network\":\n",
    "        y_pred_proba = model.predict(X_test).flatten()  \n",
    "        y_pred = (y_pred_proba > 0.5).astype(int) \n",
    "    else:\n",
    "        y_pred_proba = model.predict_proba(X_test)[:, 1] \n",
    "        y_pred = (y_pred_proba > 0.5).astype(int) \n",
    "\n",
    "    accuracy = accuracy_score(y_test, y_pred)\n",
    "    f1 = f1_score(y_test, y_pred)\n",
    "    roc_auc = roc_auc_score(y_test, y_pred_proba)  \n",
    "    \n",
    "    results[model_name] = {\n",
    "        \"Accuracy\": accuracy,\n",
    "        \"F1 Score\": f1,\n",
    "        \"ROC AUC\": roc_auc,  \n",
    "    }\n",
    "\n",
    "print(\"\\nComparison of Model Results:\")\n",
    "for model_name, metrics in results.items():\n",
    "    print(f\"{model_name}:\")\n",
    "    print(f\"  Accuracy: {metrics['Accuracy']:.4f}\")\n",
    "    print(f\"  F1 Score: {metrics['F1 Score']:.4f}\")\n",
    "    print(f\"  ROC AUC: {metrics['ROC AUC']:.4f}\")  "
   ]
  },
  {
   "cell_type": "code",
   "execution_count": 224,
   "id": "1f6c956f-ce48-4446-8995-8675467ef0b3",
   "metadata": {},
   "outputs": [
    {
     "data": {
      "image/png": "[encoded data removed]",
      "text/plain": [
       "<Figure size 1200x600 with 1 Axes>"
      ]
     },
     "metadata": {},
     "output_type": "display_data"
    }
   ],
   "source": [
    "# Data from the previous results dictionary\n",
    "model_names = list(results.keys())\n",
    "accuracies = [metrics['Accuracy'] for metrics in results.values()]\n",
    "f1_scores = [metrics['F1 Score'] for metrics in results.values()]\n",
    "roc_auc_scores = [metrics['ROC AUC'] for metrics in results.values()] \n",
    "\n",
    "bar_width = 0.25  \n",
    "x = np.arange(len(model_names))  \n",
    "\n",
    "fig, ax = plt.subplots(figsize=(12, 6))\n",
    "\n",
    "bars1 = ax.bar(x - bar_width, accuracies, bar_width, label='Accuracy', color='skyblue')\n",
    "bars2 = ax.bar(x, f1_scores, bar_width, label='F1 Score', color='salmon')\n",
    "bars3 = ax.bar(x + bar_width, roc_auc_scores, bar_width, label='ROC AUC', color='lightgreen')  \n",
    "\n",
    "ax.set_xlabel('Models', fontsize=14)\n",
    "ax.set_ylabel('Scores', fontsize=14)\n",
    "ax.set_title('Comparison of Model Results', fontsize=16)\n",
    "ax.set_xticks(x)\n",
    "ax.set_xticklabels(model_names)\n",
    "\n",
    "ax.legend(loc='upper left', bbox_to_anchor=(1, 1)) \n",
    "\n",
    "for bar in bars1:\n",
    "    yval = bar.get_height()\n",
    "    ax.text(bar.get_x() + bar.get_width()/2, yval, f'{yval:.2f}', ha='center', va='bottom', fontsize=12)\n",
    "\n",
    "for bar in bars2:\n",
    "    yval = bar.get_height()\n",
    "    ax.text(bar.get_x() + bar.get_width()/2, yval, f'{yval:.2f}', ha='center', va='bottom', fontsize=12)\n",
    "\n",
    "for bar in bars3:\n",
    "    yval = bar.get_height()\n",
    "    ax.text(bar.get_x() + bar.get_width()/2, yval, f'{yval:.2f}', ha='center', va='bottom', fontsize=12)\n",
    "\n",
    "plt.tight_layout()\n",
    "plt.show()"
   ]
  },
  {
   "cell_type": "markdown",
   "id": "dc581c3a-8cde-4ec8-8a9a-e79f92282a8c",
   "metadata": {},
   "source": [
    "**Predict class for 25000 instances using the best models**"
   ]
  },
  {
   "cell_type": "code",
   "execution_count": 227,
   "id": "9fc5bfde-432a-4108-b4a4-077b2b9077f1",
   "metadata": {},
   "outputs": [
    {
     "name": "stdout",
     "output_type": "stream",
     "text": [
      "Training Data Class Distribution:\n",
      "Income\n",
      "0.0    0.7558\n",
      "1.0    0.2442\n",
      "Name: proportion, dtype: float64\n",
      "\u001b[1m782/782\u001b[0m \u001b[32m━━━━━━━━━━━━━━━━━━━━\u001b[0m\u001b[37m\u001b[0m \u001b[1m2s\u001b[0m 2ms/step\n"
     ]
    },
    {
     "data": {
      "image/png": "[encoded data removed]",
      "text/plain": [
       "<Figure size 1200x600 with 1 Axes>"
      ]
     },
     "metadata": {},
     "output_type": "display_data"
    },
    {
     "name": "stdout",
     "output_type": "stream",
     "text": [
      "\n",
      "Combined Class Distributions:\n",
      "     Training  Logistic Regression  Random Forest  Neural Network\n",
      "0.0    0.7558              0.64512        0.80544         0.65732\n",
      "1.0    0.2442              0.35488        0.19456         0.34268\n",
      "\n",
      "Combined Jensen-Shannon Divergence:\n",
      "Logistic Regression: 0.1028\n",
      "Random Forest: 0.051\n",
      "Neural Network: 0.092\n"
     ]
    }
   ],
   "source": [
    "from scipy.spatial.distance import jensenshannon\n",
    "\n",
    "#Creating unlabeled DataFrame \n",
    "final_df_unlabeled = final_df[final_df['Income'].isna()]\n",
    "\n",
    "#Prepare DataFrame for model predictions\n",
    "final_df_unlabeled_wio = final_df_unlabeled.drop('Income', axis=1)\n",
    "\n",
    "model_predictions = {}\n",
    "\n",
    "# Dictionary for Jensen-Shannon divergences\n",
    "divergences = {}\n",
    "\n",
    "# Calculate class distribution in the training data\n",
    "training_class_distribution = final_df_labeled['Income'].value_counts(normalize=True)\n",
    "print(\"Training Data Class Distribution:\")\n",
    "print(training_class_distribution)\n",
    "\n",
    "# Predict the income group for each model\n",
    "for model_name, model in models.items():\n",
    "    if model_name == \"Neural Network\":\n",
    "        income_predictions = model.predict(final_df_unlabeled_wio).flatten()  \n",
    "        income_predictions = (income_predictions > 0.5).astype(int)  \n",
    "    else:\n",
    "        income_predictions = model.predict(final_df_unlabeled_wio)\n",
    "\n",
    "    model_predictions[model_name] = income_predictions\n",
    "\n",
    "    predicted_class_distribution = pd.Series(income_predictions).value_counts(normalize=True)\n",
    "\n",
    "    js_divergence = jensenshannon(training_class_distribution, predicted_class_distribution, base=2) \n",
    "    \n",
    "    divergences[model_name] = round(js_divergence, 4)\n",
    "\n",
    "predicted_distributions = pd.DataFrame()\n",
    "\n",
    "# Calculate class distribution for each model's predictions \n",
    "for model_name, predictions in model_predictions.items():\n",
    "    predicted_class_distribution = pd.Series(predictions).value_counts(normalize=True)\n",
    "    predicted_distributions[model_name] = predicted_class_distribution\n",
    "\n",
    "combined_distribution_df = pd.concat([training_class_distribution, predicted_distributions], axis=1)\n",
    "combined_distribution_df.columns = ['Training'] + list(model_predictions.keys())\n",
    "\n",
    "# Fill NaN values with 0 for better visualization\n",
    "combined_distribution_df.fillna(0, inplace=True)\n",
    "\n",
    "combined_distribution_df.plot(kind='bar', figsize=(12, 6))\n",
    "plt.title('Class Distribution Comparison: Training vs Predictions Across Models')\n",
    "plt.xlabel('Income Class')\n",
    "plt.ylabel('Proportion')\n",
    "plt.xticks(rotation=0)  \n",
    "plt.legend(title='Models', bbox_to_anchor=(1.05, 1), loc='upper left')  \n",
    "plt.tight_layout()  \n",
    "plt.show()\n",
    "\n",
    "print(\"\\nCombined Class Distributions:\")\n",
    "print(combined_distribution_df)\n",
    "\n",
    "print(\"\\nCombined Jensen-Shannon Divergence:\")\n",
    "for model_name, divergence in divergences.items():\n",
    "    print(f\"{model_name}: {divergence}\")"
   ]
  },
  {
   "cell_type": "code",
   "execution_count": null,
   "id": "3ea7446e-49e7-47af-8935-f8f425c376da",
   "metadata": {},
   "outputs": [],
   "source": []
  }
 ],
 "metadata": {
  "kernelspec": {
   "display_name": "Python 3 (ipykernel)",
   "language": "python",
   "name": "python3"
  },
  "language_info": {
   "codemirror_mode": {
    "name": "ipython",
    "version": 3
   },
   "file_extension": ".py",
   "mimetype": "text/x-python",
   "name": "python",
   "nbconvert_exporter": "python",
   "pygments_lexer": "ipython3",
   "version": "3.11.9"
  }
 },
 "nbformat": 4,
 "nbformat_minor": 5
}
